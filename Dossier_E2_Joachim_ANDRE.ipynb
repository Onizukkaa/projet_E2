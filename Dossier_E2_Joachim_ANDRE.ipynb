{
 "cells": [
  {
   "attachments": {},
   "cell_type": "markdown",
   "metadata": {},
   "source": [
    "# I - Code d'origine"
   ]
  },
  {
   "attachments": {},
   "cell_type": "markdown",
   "metadata": {},
   "source": [
    " source du code d'origine : https://www.kaggle.com/code/setyoab/heart-attack-analysis-using-logisticregression"
   ]
  },
  {
   "cell_type": "code",
   "execution_count": null,
   "metadata": {},
   "outputs": [],
   "source": [
    "# On importe les librairies\n",
    "\n",
    "import matplotlib.pyplot as plt\n",
    "import seaborn as sns\n",
    "import pandas as pd\n",
    "\n"
   ]
  },
  {
   "cell_type": "code",
   "execution_count": null,
   "metadata": {},
   "outputs": [],
   "source": [
    "import warnings\n",
    "warnings.filterwarnings('ignore')"
   ]
  },
  {
   "cell_type": "code",
   "execution_count": null,
   "metadata": {},
   "outputs": [],
   "source": [
    "# On importe le dataset \n",
    "\n",
    "df = pd.read_csv(\"heart.csv\")\n",
    "print(f\"data shape : {df.shape}\")"
   ]
  },
  {
   "cell_type": "code",
   "execution_count": null,
   "metadata": {},
   "outputs": [],
   "source": [
    "df.head()"
   ]
  },
  {
   "cell_type": "code",
   "execution_count": null,
   "metadata": {},
   "outputs": [],
   "source": [
    "df.info()"
   ]
  },
  {
   "cell_type": "code",
   "execution_count": null,
   "metadata": {},
   "outputs": [],
   "source": [
    "# heatmap de corrélation\n",
    "\n",
    "plt.figure(figsize = (15, 8))\n",
    "sns.heatmap(df.corr(), annot = True, fmt = \".2f\")\n"
   ]
  },
  {
   "attachments": {},
   "cell_type": "markdown",
   "metadata": {},
   "source": [
    "## EDA"
   ]
  },
  {
   "cell_type": "code",
   "execution_count": null,
   "metadata": {},
   "outputs": [],
   "source": [
    "fig,axes = plt.subplots(2,3,figsize=(20,12))\n",
    "col = ['sex', 'thall', 'exng']\n",
    "sns.countplot(ax = axes[0, 0], data = df, x = 'sex', hue ='output')\n",
    "sns.countplot(ax = axes[0, 1],data = df, x = 'thall', hue = 'output')\n",
    "sns.countplot(ax = axes[0, 2],data = df, x = 'exng', hue = 'output')\n",
    "sns.countplot(ax = axes[1, 0],data = df, x = 'cp', hue = 'output')\n",
    "sns.countplot(ax = axes[1, 1],data = df, x = 'slp', hue = 'output')\n",
    "sns.countplot(ax = axes[1, 2],data = df, x = 'restecg', hue = 'output')\n",
    "\n",
    "\n",
    "# adding title to each subplots\n",
    "axes[0,0].set_title('sex based on output')\n",
    "axes[0,1].set_title('thall based on output')\n",
    "axes[0,2].set_title('exng based on output')\n",
    "axes[1,0].set_title('chest pain based on output')\n",
    "axes[1,1].set_title('slp based on output')\n",
    "axes[1,2].set_title('rest ecg based on output')\n"
   ]
  },
  {
   "cell_type": "code",
   "execution_count": null,
   "metadata": {},
   "outputs": [],
   "source": [
    "plt.figure(figsize=(25,15))\n",
    "sns.countplot(data = df, y = df['age'])\n",
    "plt.title('Age countplot')"
   ]
  },
  {
   "cell_type": "code",
   "execution_count": null,
   "metadata": {},
   "outputs": [],
   "source": [
    "plt.figure(figsize=(10,8))\n",
    "sns.displot(data = df, x = 'thalachh', kde = True, hue = 'output')\n",
    "plt.title('Thalach distribution based on output')\n",
    "plt.show()"
   ]
  },
  {
   "cell_type": "code",
   "execution_count": null,
   "metadata": {},
   "outputs": [],
   "source": [
    "sns.displot(data = df, x = 'chol', kde = True, hue = 'output')\n",
    "plt.title('cholesterol based on output')"
   ]
  },
  {
   "attachments": {},
   "cell_type": "markdown",
   "metadata": {},
   "source": [
    "## Création du Modèle"
   ]
  },
  {
   "cell_type": "code",
   "execution_count": null,
   "metadata": {},
   "outputs": [],
   "source": [
    "from sklearn.model_selection import train_test_split\n",
    "from sklearn.linear_model import LogisticRegression\n",
    "from sklearn.metrics import classification_report"
   ]
  },
  {
   "cell_type": "code",
   "execution_count": null,
   "metadata": {},
   "outputs": [],
   "source": [
    "X = df.drop(\"output\",  axis = 1)\n",
    "y = df[\"output\"]"
   ]
  },
  {
   "cell_type": "code",
   "execution_count": null,
   "metadata": {},
   "outputs": [],
   "source": [
    "X_train, X_test, y_train, y_test = train_test_split(X, y, test_size = 0.2, random_state = 42)"
   ]
  },
  {
   "cell_type": "code",
   "execution_count": null,
   "metadata": {},
   "outputs": [],
   "source": [
    "log_model = LogisticRegression(solver = \"lbfgs\",\n",
    "                               max_iter = 1000)\n",
    "\n",
    "log_model.fit(X_train, y_train)"
   ]
  },
  {
   "cell_type": "code",
   "execution_count": null,
   "metadata": {},
   "outputs": [],
   "source": [
    "pred = log_model.predict(X_test)"
   ]
  },
  {
   "cell_type": "code",
   "execution_count": null,
   "metadata": {},
   "outputs": [],
   "source": [
    "print(classification_report(y_test, pred))"
   ]
  },
  {
   "cell_type": "code",
   "execution_count": null,
   "metadata": {},
   "outputs": [],
   "source": [
    "print(f\"accuracy on test set : {log_model.score(X_test, y_test)}\")"
   ]
  },
  {
   "cell_type": "code",
   "execution_count": null,
   "metadata": {},
   "outputs": [],
   "source": [
    "evaluation(log_model)"
   ]
  },
  {
   "cell_type": "code",
   "execution_count": null,
   "metadata": {},
   "outputs": [],
   "source": [
    "# Création courbes ROC\n",
    "# Initialiser les modèles\n",
    "models = [log_model]\n",
    "model_names = ['Logistic Regression non optimisée']\n",
    "\n",
    "# Boucle sur les modèles pour les entraîner et prédire les probabilités\n",
    "for model, name in zip(models, model_names):\n",
    "    model.fit(X_train, y_train)\n",
    "    y_pred_prob = model.predict_proba(X_test)[:,1]\n",
    "    \n",
    "    # Calculer la courbe ROC et AUC\n",
    "    fpr, tpr, thresholds = roc_curve(y_test, y_pred_prob)\n",
    "    auc = roc_auc_score(y_test, y_pred_prob)\n",
    "    \n",
    "    # Afficher la courbe ROC\n",
    "    plt.figure(figsize=(10,8))\n",
    "    plt.plot(fpr, tpr, label=name + ', AUC = %0.3f' % auc)\n",
    "    \n",
    "# Ajouter des annotations et légendes\n",
    "\n",
    "plt.plot([0, 1], [0, 1], linestyle='--')\n",
    "plt.xlabel('Taux de faux positifs')\n",
    "plt.ylabel('Taux de vrais positifs')\n",
    "plt.title('Courbe ROC pour Logistic Regression non optimisée')\n",
    "plt.legend()\n",
    "\n",
    "# Afficher la figure\n",
    "plt.show()"
   ]
  },
  {
   "attachments": {},
   "cell_type": "markdown",
   "metadata": {},
   "source": [
    "# II - Phase d'optimisation"
   ]
  },
  {
   "attachments": {},
   "cell_type": "markdown",
   "metadata": {},
   "source": [
    "## Analyse de la colonne target\n",
    "On va analyser la répartition des deux valeures target, afin ,de voir si notre dataset est équilibré ou non"
   ]
  },
  {
   "cell_type": "code",
   "execution_count": null,
   "metadata": {},
   "outputs": [],
   "source": [
    "# On vérifie la distribution de notre target\n",
    "\n",
    "df[\"output\"].value_counts(normalize=True)"
   ]
  },
  {
   "attachments": {},
   "cell_type": "markdown",
   "metadata": {},
   "source": [
    "On voit que notre dataset est plutot équilibré, nous n'avons donc pas besoin de faire un travail de traitement des données dans ce sens"
   ]
  },
  {
   "cell_type": "code",
   "execution_count": null,
   "metadata": {},
   "outputs": [],
   "source": [
    "# Recherche de corrélations par rapport à notre target\n",
    "\n",
    "cor_matrix = df.corr()\n",
    "cor_matrix[\"output\"].sort_values(ascending = False)"
   ]
  },
  {
   "attachments": {},
   "cell_type": "markdown",
   "metadata": {},
   "source": [
    "On voit que 3 variables ont une corrélation positive sur notre target :\n",
    " - cp : 0.434 \n",
    " - thalachh : 0.422 \n",
    " - slp : 0.346\n",
    "\n",
    "3 variables ont aussi une corrélation négative sur notre target : \n",
    "- exng : -0.437\n",
    "- oldpeak : -0.431\n",
    "- caa : -0.392\n",
    "\n",
    "Nous n'avons aucune corralation linéaire vis à vis de notre target."
   ]
  },
  {
   "attachments": {},
   "cell_type": "markdown",
   "metadata": {},
   "source": [
    "## Preprocessing"
   ]
  },
  {
   "cell_type": "code",
   "execution_count": null,
   "metadata": {},
   "outputs": [],
   "source": [
    "# Création d'un pipeline\n",
    "\n",
    "from sklearn.pipeline import make_pipeline\n",
    "\n",
    "# Utilisation de RobusScaller \n",
    "from sklearn.preprocessing import RobustScaler\n",
    "\n",
    "# Import de nos modèles de machine learning\n",
    "\n",
    "from sklearn.model_selection import train_test_split\n",
    "from sklearn.linear_model import LogisticRegression\n",
    "from sklearn.tree import DecisionTreeClassifier\n",
    "from sklearn.svm import SVC\n",
    "from sklearn.ensemble import GradientBoostingClassifier\n",
    "\n",
    "from sklearn.metrics import accuracy_score, roc_curve, roc_auc_score, confusion_matrix, classification_report\n",
    "\n",
    "from sklearn.model_selection import learning_curve\n",
    "from sklearn.model_selection import GridSearchCV\n",
    "\n",
    "import numpy as np\n",
    "\n",
    "import pickle"
   ]
  },
  {
   "cell_type": "code",
   "execution_count": null,
   "metadata": {},
   "outputs": [],
   "source": [
    "# Création de notre dataset d'entrainement et de validation\n",
    "\n",
    "X = df.drop(\"output\",  axis = 1)\n",
    "y = df[\"output\"]\n",
    "\n",
    "\n",
    "X_train, X_test, y_train, y_test = train_test_split(X, y, test_size = 0.2, random_state = 42)"
   ]
  },
  {
   "cell_type": "code",
   "execution_count": null,
   "metadata": {},
   "outputs": [],
   "source": [
    "# Creation de nos différents modèles\n",
    "\n",
    "model_log_Reg = make_pipeline(RobustScaler(), \n",
    "                      LogisticRegression(max_iter = 10000))\n",
    "\n",
    "model_dec_tree_class = make_pipeline(RobustScaler(), \n",
    "                      DecisionTreeClassifier())\n",
    "\n",
    "model_SVC = make_pipeline(RobustScaler(), \n",
    "                      SVC(probability = True))\n",
    "\n",
    "model_grad_boost = make_pipeline(RobustScaler(), \n",
    "                     GradientBoostingClassifier())\n"
   ]
  },
  {
   "attachments": {},
   "cell_type": "markdown",
   "metadata": {},
   "source": [
    "### Test des modèles sans optimisation des hyper paramètres"
   ]
  },
  {
   "cell_type": "code",
   "execution_count": null,
   "metadata": {},
   "outputs": [],
   "source": [
    "# Création courbes ROC\n",
    "# Initialiser les modèles\n",
    "models = [model_log_Reg, model_dec_tree_class, model_SVC, model_grad_boost]\n",
    "model_names = ['LogReg', 'DecisionTree', 'SVC', \"GradientBoostingClassifier\"]\n",
    "\n",
    "# Boucle sur les modèles pour les entraîner et prédire les probabilités\n",
    "for model, name in zip(models, model_names):\n",
    "\n",
    "\n",
    "    model.fit(X_train, y_train)\n",
    "    y_pred_prob = model.predict_proba(X_test)[:,1]\n",
    "    \n",
    "    # Calculer la courbe ROC et AUC\n",
    "    fpr, tpr, thresholds = roc_curve(y_test, y_pred_prob)\n",
    "    auc = roc_auc_score(y_test, y_pred_prob)\n",
    "    \n",
    "    # Afficher la courbe ROC\n",
    "    \n",
    "    plt.plot(fpr, tpr, label=name + ', AUC = %0.3f' % auc)\n",
    "    \n",
    "# Ajouter des annotations et légendes\n",
    "    \n",
    "    \n",
    "plt.plot([0, 1], [0, 1], linestyle='--')\n",
    "plt.xlabel('Taux de faux positifs')\n",
    "plt.ylabel('Taux de vrais positifs')\n",
    "plt.title('Courbe ROC pour différents modèles de machine learning')\n",
    "plt.legend()\n",
    "\n",
    "# Afficher la figure\n",
    "plt.show()"
   ]
  },
  {
   "cell_type": "code",
   "execution_count": null,
   "metadata": {},
   "outputs": [],
   "source": [
    "# Courbe d'apprentissage\n",
    "\n",
    "fig, axes = plt.subplots(1, len(models), figsize=(15, 5))\n",
    "for i, model,  in enumerate(models, ):\n",
    "    train_sizes, train_scores, val_scores = learning_curve(model, X_train, y_train, train_sizes=[0.1, 0.3, 0.5, 0.7, 0.9], cv=5)\n",
    "    train_scores_mean = np.mean(train_scores, axis=1)\n",
    "    train_scores_std = np.std(train_scores, axis=1)\n",
    "    val_scores_mean = np.mean(val_scores, axis=1)\n",
    "    val_scores_std = np.std(val_scores, axis=1)\n",
    "    axes[i].set_title(type(model).__name__)\n",
    "    axes[i].set_xlabel(\"Training Examples\")\n",
    "    axes[i].set_ylabel(\"Score\")\n",
    "    axes[i].grid()\n",
    "    axes[i].fill_between(train_sizes, train_scores_mean - train_scores_std, train_scores_mean + train_scores_std, alpha=0.1, color=\"r\")\n",
    "    axes[i].fill_between(train_sizes, val_scores_mean - val_scores_std, val_scores_mean + val_scores_std, alpha=0.1, color=\"g\")\n",
    "    axes[i].plot(train_sizes, train_scores_mean, 'o-', color=\"r\", label=\"Training Score\")\n",
    "    axes[i].plot(train_sizes, val_scores_mean, 'o-', color=\"g\", label=\"validation Score\")\n",
    "plt.legend(loc=\"best\")"
   ]
  },
  {
   "attachments": {},
   "cell_type": "markdown",
   "metadata": {},
   "source": [
    "### Optimisation de nos modèles avec GridSearchCv"
   ]
  },
  {
   "cell_type": "code",
   "execution_count": null,
   "metadata": {},
   "outputs": [],
   "source": [
    "def evaluation(model):\n",
    "    \n",
    "    #model.fit(X_train,y_train)\n",
    "    ypred=model.predict(X_test)\n",
    "    \n",
    "    print(f\"Matrix de confusion {confusion_matrix(y_test,ypred)}\")\n",
    "    print(f\"Report Classification {classification_report(y_test,ypred)}\")\n",
    "    \n",
    "    N,train_score,val_score=learning_curve(model,X_train,y_train,cv=4,train_sizes=np.linspace(0.1,1,10),\n",
    "                                            scoring=\"precision\")\n",
    "    \n",
    "    plt.figure(figsize=(10,5))\n",
    "    plt.plot(N,train_score.mean(axis=1),label=\"Train score\")\n",
    "    plt.plot(N,val_score.mean(axis=1),label=\"Validation score\")\n",
    "    plt.legend()"
   ]
  },
  {
   "cell_type": "code",
   "execution_count": null,
   "metadata": {},
   "outputs": [],
   "source": [
    "# Création de nos paramètres\n",
    "\n",
    "param_grid_SVC = {'svc__C': (0.001, 0.01, 0.1, 1, 10, 100), \n",
    "                  'svc__kernel': ['linear', 'rbf', \"sigmoid\", \"poly\"], \n",
    "                  'svc__gamma': [\"scale\", \"auto\"],\n",
    "                  \"svc__degree\": range(1,5)}\n",
    "\n",
    "param_grid_log_reg = {\"logisticregression__penalty\": [\"l1\", \"l2\", \"elasticnet\"],\n",
    "                      \"logisticregression__C\": (0.001, 0.01, 0.1, 1, 10, 100),\n",
    "                      \"logisticregression__solver\": [\"newton-cg\", \"lbfgs\", \"liblinear\", \"sag\", \"saga\", \"newton-cholesky\"]\n",
    "                      \n",
    "                      }\n",
    "\n",
    "param_grid_dec_tree = {\"decisiontreeclassifier__max_depth\": range(1, 100, 10),\n",
    "                       \"decisiontreeclassifier__min_samples_split\": range(1, 100, 10),\n",
    "                       \"decisiontreeclassifier__min_samples_leaf\": range(1, 100, 10),\n",
    "                       \"decisiontreeclassifier__max_features\": range(1, 100, 10),\n",
    "                       \"decisiontreeclassifier__criterion\": [\"gini\", \"entropy\"]\n",
    "\n",
    "\n",
    "}\n",
    "\n",
    "param_grid_grad_boost = {\"gradientboostingclassifier__loss\": [\"log_loss\", \"deviance\", \"exponential\"],\n",
    "                         \"gradientboostingclassifier__learning_rate\": (0.0001,0.001, 0.01, 0.1, 1, 1.001, 1.01, 1.1),\n",
    "                         \"gradientboostingclassifier__criterion\": [\"friedman_mse\", \"squarred_error\"],\n",
    "                         \"gradientboostingclassifier__max_depth\": range(1, 100),\n",
    "                         \"gradientboostingclassifier__max_features\": [\"auto\", \"sqrt\", \"log2\"],\n",
    "                         \"gradientboostingclassifier__ccp_alpha\": (0.0001, 0.001, 0.01, 0.1, 1)\n",
    "\n",
    "\n",
    "}\n"
   ]
  },
  {
   "cell_type": "code",
   "execution_count": null,
   "metadata": {},
   "outputs": [],
   "source": [
    "\n",
    "def optimisation(model, param_grid):\n",
    "\n",
    "    grid = GridSearchCV(model, param_grid= param_grid, cv = 5, scoring = \"precision\", verbose = 2, n_jobs = -1)\n",
    "    grid.fit(X_train, y_train)\n",
    "    print(grid.best_params_)\n",
    "    print(grid.best_score_)\n",
    "    print(grid.best_estimator_)\n",
    "    return (grid.best_estimator_)"
   ]
  },
  {
   "attachments": {},
   "cell_type": "markdown",
   "metadata": {},
   "source": [
    "### Logistic Regression"
   ]
  },
  {
   "cell_type": "code",
   "execution_count": null,
   "metadata": {},
   "outputs": [],
   "source": [
    "best_model_log_reg = optimisation(model_log_Reg, param_grid_log_reg)\n"
   ]
  },
  {
   "cell_type": "code",
   "execution_count": null,
   "metadata": {},
   "outputs": [],
   "source": [
    "evaluation(best_model_log_reg)"
   ]
  },
  {
   "cell_type": "code",
   "execution_count": null,
   "metadata": {},
   "outputs": [],
   "source": [
    "#Sauvegarde du modèle\n",
    "\n",
    "with open('modeles/LogisticRegression.pkl', 'wb') as file:\n",
    "    pickle.dump(best_model_log_reg, file)"
   ]
  },
  {
   "attachments": {},
   "cell_type": "markdown",
   "metadata": {},
   "source": [
    "### Decision Tree"
   ]
  },
  {
   "cell_type": "code",
   "execution_count": null,
   "metadata": {},
   "outputs": [],
   "source": [
    "best_model_decision_tree = optimisation(model_dec_tree_class, param_grid_dec_tree)"
   ]
  },
  {
   "cell_type": "code",
   "execution_count": null,
   "metadata": {},
   "outputs": [],
   "source": [
    "evaluation(best_model_decision_tree)"
   ]
  },
  {
   "cell_type": "code",
   "execution_count": null,
   "metadata": {},
   "outputs": [],
   "source": [
    "# Sauvegarde du modèle\n",
    "\n",
    "with open('modeles/DecisionTree.pkl', 'wb') as file:\n",
    "    pickle.dump(best_model_decision_tree, file)\n",
    "\n"
   ]
  },
  {
   "attachments": {},
   "cell_type": "markdown",
   "metadata": {},
   "source": [
    "# GradientBoostingClassifier"
   ]
  },
  {
   "cell_type": "code",
   "execution_count": null,
   "metadata": {},
   "outputs": [],
   "source": [
    "best_model_grad_boost = optimisation(model_grad_boost, param_grid_grad_boost)"
   ]
  },
  {
   "cell_type": "code",
   "execution_count": null,
   "metadata": {},
   "outputs": [],
   "source": [
    "evaluation(best_model_grad_boost)"
   ]
  },
  {
   "cell_type": "code",
   "execution_count": null,
   "metadata": {},
   "outputs": [],
   "source": [
    "# Sauvegarde du modèle\n",
    "\n",
    "with open('modeles/GradientBoost.pkl', 'wb') as file:\n",
    "    pickle.dump(best_model_grad_boost, file)"
   ]
  },
  {
   "attachments": {},
   "cell_type": "markdown",
   "metadata": {},
   "source": [
    "### SVC"
   ]
  },
  {
   "cell_type": "code",
   "execution_count": null,
   "metadata": {},
   "outputs": [],
   "source": [
    "best_model_SVC = optimisation(model_SVC, param_grid_SVC)"
   ]
  },
  {
   "cell_type": "code",
   "execution_count": null,
   "metadata": {},
   "outputs": [],
   "source": [
    "evaluation(best_model_SVC)"
   ]
  },
  {
   "cell_type": "code",
   "execution_count": null,
   "metadata": {},
   "outputs": [],
   "source": [
    "# Sauvegarde du modèle\n",
    "\n",
    "with open('modeles/SVC.pkl', 'wb') as file:\n",
    "    pickle.dump(best_model_SVC, file)"
   ]
  },
  {
   "attachments": {},
   "cell_type": "markdown",
   "metadata": {},
   "source": [
    "### Courbes ROC de l'ensemble de nos modèles"
   ]
  },
  {
   "cell_type": "code",
   "execution_count": null,
   "metadata": {},
   "outputs": [],
   "source": [
    "# On charge nos modèles\n",
    "\n",
    "with open('modeles/LogisticRegression.pkl', 'rb') as file:\n",
    "    model_log_reg = pickle.load(file)\n",
    "\n",
    "with open('modeles/SVC.pkl', 'rb') as file:\n",
    "    model_SVC = pickle.load(file)\n",
    "\n",
    "with open('modeles/DecisionTree.pkl', 'rb') as file:\n",
    "    model_decision_tree = pickle.load(file)\n",
    "\n",
    "with open('modeles/GradientBoost.pkl', 'rb') as file:\n",
    "    model_grad_boost = pickle.load(file)\n"
   ]
  },
  {
   "cell_type": "code",
   "execution_count": null,
   "metadata": {},
   "outputs": [],
   "source": [
    "# Création courbes ROC\n",
    "# Initialiser les modèles\n",
    "models = [model_decision_tree, model_log_reg, model_SVC, model_grad_boost]\n",
    "model_names = ['Decision Tree', 'Logistic Regression', 'SVC', \"Grad Boost\"]\n",
    "\n",
    "# Boucle sur les modèles pour les entraîner et prédire les probabilités\n",
    "for model, name in zip(models, model_names):\n",
    "    model.fit(X_train, y_train)\n",
    "    y_pred_prob = model.predict_proba(X_test)[:,1]\n",
    "    \n",
    "    # Calculer la courbe ROC et AUC\n",
    "    fpr, tpr, thresholds = roc_curve(y_test, y_pred_prob)\n",
    "    auc = roc_auc_score(y_test, y_pred_prob)\n",
    "    \n",
    "    # Afficher la courbe ROC\n",
    "    plt.plot(fpr, tpr, label=name + ', AUC = %0.3f' % auc)\n",
    "    \n",
    "# Ajouter des annotations et légendes\n",
    "plt.plot([0, 1], [0, 1], linestyle='--')\n",
    "plt.xlabel('Taux de faux positifs')\n",
    "plt.ylabel('Taux de vrais positifs')\n",
    "plt.title('Courbe ROC pour différents modèles de machine learning')\n",
    "plt.legend()\n",
    "\n",
    "# Afficher la figure\n",
    "plt.show()"
   ]
  },
  {
   "attachments": {},
   "cell_type": "markdown",
   "metadata": {},
   "source": [
    "# Création de l'API"
   ]
  },
  {
   "cell_type": "code",
   "execution_count": 1,
   "metadata": {},
   "outputs": [],
   "source": [
    "from flask import Flask, request, jsonify\n",
    "import pickle\n",
    "import numpy as np"
   ]
  },
  {
   "cell_type": "code",
   "execution_count": 2,
   "metadata": {},
   "outputs": [
    {
     "name": "stderr",
     "output_type": "stream",
     "text": [
      "c:\\Users\\Utilisateur\\anaconda3\\envs\\IA\\lib\\site-packages\\scipy\\__init__.py:146: UserWarning: A NumPy version >=1.16.5 and <1.23.0 is required for this version of SciPy (detected version 1.23.5\n",
      "  warnings.warn(f\"A NumPy version >={np_minversion} and <{np_maxversion}\"\n"
     ]
    }
   ],
   "source": [
    "# On charge le modèle SVC\n",
    "\n",
    "model = pickle.load(open('modeles/GradientBoost.pkl', 'rb'))\n"
   ]
  },
  {
   "cell_type": "code",
   "execution_count": 3,
   "metadata": {},
   "outputs": [],
   "source": [
    "# Initialisation de flask\n",
    "\n",
    "app = Flask(__name__)"
   ]
  },
  {
   "cell_type": "code",
   "execution_count": 4,
   "metadata": {},
   "outputs": [],
   "source": [
    "# Création des routes\n",
    "\n",
    "@app.route(\"/\", methods = [\"GET\"])\n",
    "def index():\n",
    "    return \"API de prédiction des risques d'arrets cardiaque \"\n",
    "\n",
    "@app.route(\"/prediction_simple\", methods=[\"POST\"])\n",
    "def prediction_simple():\n",
    "    \n",
    "    # recevoir les données en tableau numpy\n",
    "    \n",
    "    data = request.get_json(force = True)    \n",
    "    \n",
    "   # Faire la prédiction\n",
    "\n",
    "    predict_request = model.predict(data[\"data\"])\n",
    "\n",
    "    # Renvoyer la réponse au format JSON\n",
    "\n",
    "    output = {\"predict_request\": int(predict_request)}\n",
    "    return jsonify(output)\n",
    "\n",
    "@app.route(\"/prediction_multiple\", methods=[\"POST\"])\n",
    "def prediction_multiple():\n",
    "\n",
    "    # recevoir les données en tableau numpy\n",
    "\n",
    "    data_multi = request.get_json(force = True)\n",
    "    input_data = np.array(data_multi[\"data\"].reshape(-1, 1))\n",
    "\n",
    "    # Faire prédiction\n",
    "\n",
    "    #multi_predict_request = model.predict(data_multi[\"data\"].reshape(1, -1))\n",
    "    predictions = model.predict(input_data)\n",
    "\n",
    "    # Renvoyer la réponse au format JSON\n",
    "\n",
    "    multi_output = {\"predictions\": predictions.tolist()}\n",
    "    return jsonify(multi_output)\n"
   ]
  },
  {
   "cell_type": "code",
   "execution_count": 5,
   "metadata": {},
   "outputs": [
    {
     "name": "stdout",
     "output_type": "stream",
     "text": [
      " * Serving Flask app '__main__'\n",
      " * Debug mode: on\n"
     ]
    },
    {
     "name": "stderr",
     "output_type": "stream",
     "text": [
      "WARNING: This is a development server. Do not use it in a production deployment. Use a production WSGI server instead.\n",
      " * Running on all addresses (0.0.0.0)\n",
      " * Running on http://127.0.0.1:5000\n",
      " * Running on http://192.168.1.159:5000\n",
      "Press CTRL+C to quit\n",
      " * Restarting with watchdog (windowsapi)\n"
     ]
    },
    {
     "ename": "SystemExit",
     "evalue": "1",
     "output_type": "error",
     "traceback": [
      "An exception has occurred, use %tb to see the full traceback.\n",
      "\u001b[1;31mSystemExit\u001b[0m\u001b[1;31m:\u001b[0m 1\n"
     ]
    },
    {
     "name": "stderr",
     "output_type": "stream",
     "text": [
      "c:\\Users\\Utilisateur\\anaconda3\\envs\\IA\\lib\\site-packages\\IPython\\core\\interactiveshell.py:3468: UserWarning: To exit: use 'exit', 'quit', or Ctrl-D.\n",
      "  warn(\"To exit: use 'exit', 'quit', or Ctrl-D.\", stacklevel=1)\n"
     ]
    }
   ],
   "source": [
    "if __name__ == \"__main__\":\n",
    "    app.run(debug = True,host = \"0.0.0.0\", use_reloader = True) "
   ]
  },
  {
   "cell_type": "code",
   "execution_count": null,
   "metadata": {},
   "outputs": [],
   "source": []
  }
 ],
 "metadata": {
  "kernelspec": {
   "display_name": "IA",
   "language": "python",
   "name": "python3"
  },
  "language_info": {
   "codemirror_mode": {
    "name": "ipython",
    "version": 3
   },
   "file_extension": ".py",
   "mimetype": "text/x-python",
   "name": "python",
   "nbconvert_exporter": "python",
   "pygments_lexer": "ipython3",
   "version": "3.9.16"
  },
  "orig_nbformat": 4,
  "vscode": {
   "interpreter": {
    "hash": "b499261f3b450964d578863dc0d6325e7a7c5a0ed722dd0003bdcb4bf2ae642d"
   }
  }
 },
 "nbformat": 4,
 "nbformat_minor": 2
}
